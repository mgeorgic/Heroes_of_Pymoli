{
 "cells": [
  {
   "cell_type": "markdown",
   "metadata": {},
   "source": [
    "### Note\n",
    "* Instructions have been included for each segment. You do not have to follow them exactly, but they are included to help you think through the steps."
   ]
  },
  {
   "cell_type": "code",
   "execution_count": 19,
   "metadata": {},
   "outputs": [
    {
     "data": {
      "text/html": [
       "<div>\n",
       "<style scoped>\n",
       "    .dataframe tbody tr th:only-of-type {\n",
       "        vertical-align: middle;\n",
       "    }\n",
       "\n",
       "    .dataframe tbody tr th {\n",
       "        vertical-align: top;\n",
       "    }\n",
       "\n",
       "    .dataframe thead th {\n",
       "        text-align: right;\n",
       "    }\n",
       "</style>\n",
       "<table border=\"1\" class=\"dataframe\">\n",
       "  <thead>\n",
       "    <tr style=\"text-align: right;\">\n",
       "      <th></th>\n",
       "      <th>Purchase ID</th>\n",
       "      <th>SN</th>\n",
       "      <th>Age</th>\n",
       "      <th>Gender</th>\n",
       "      <th>Item ID</th>\n",
       "      <th>Item Name</th>\n",
       "      <th>Price</th>\n",
       "    </tr>\n",
       "  </thead>\n",
       "  <tbody>\n",
       "    <tr>\n",
       "      <th>0</th>\n",
       "      <td>0</td>\n",
       "      <td>Lisim78</td>\n",
       "      <td>20</td>\n",
       "      <td>Male</td>\n",
       "      <td>108</td>\n",
       "      <td>Extraction, Quickblade Of Trembling Hands</td>\n",
       "      <td>3.53</td>\n",
       "    </tr>\n",
       "    <tr>\n",
       "      <th>1</th>\n",
       "      <td>1</td>\n",
       "      <td>Lisovynya38</td>\n",
       "      <td>40</td>\n",
       "      <td>Male</td>\n",
       "      <td>143</td>\n",
       "      <td>Frenzied Scimitar</td>\n",
       "      <td>1.56</td>\n",
       "    </tr>\n",
       "    <tr>\n",
       "      <th>2</th>\n",
       "      <td>2</td>\n",
       "      <td>Ithergue48</td>\n",
       "      <td>24</td>\n",
       "      <td>Male</td>\n",
       "      <td>92</td>\n",
       "      <td>Final Critic</td>\n",
       "      <td>4.88</td>\n",
       "    </tr>\n",
       "    <tr>\n",
       "      <th>3</th>\n",
       "      <td>3</td>\n",
       "      <td>Chamassasya86</td>\n",
       "      <td>24</td>\n",
       "      <td>Male</td>\n",
       "      <td>100</td>\n",
       "      <td>Blindscythe</td>\n",
       "      <td>3.27</td>\n",
       "    </tr>\n",
       "    <tr>\n",
       "      <th>4</th>\n",
       "      <td>4</td>\n",
       "      <td>Iskosia90</td>\n",
       "      <td>23</td>\n",
       "      <td>Male</td>\n",
       "      <td>131</td>\n",
       "      <td>Fury</td>\n",
       "      <td>1.44</td>\n",
       "    </tr>\n",
       "  </tbody>\n",
       "</table>\n",
       "</div>"
      ],
      "text/plain": [
       "   Purchase ID             SN  Age Gender  Item ID  \\\n",
       "0            0        Lisim78   20   Male      108   \n",
       "1            1    Lisovynya38   40   Male      143   \n",
       "2            2     Ithergue48   24   Male       92   \n",
       "3            3  Chamassasya86   24   Male      100   \n",
       "4            4      Iskosia90   23   Male      131   \n",
       "\n",
       "                                   Item Name  Price  \n",
       "0  Extraction, Quickblade Of Trembling Hands   3.53  \n",
       "1                          Frenzied Scimitar   1.56  \n",
       "2                               Final Critic   4.88  \n",
       "3                                Blindscythe   3.27  \n",
       "4                                       Fury   1.44  "
      ]
     },
     "execution_count": 19,
     "metadata": {},
     "output_type": "execute_result"
    }
   ],
   "source": [
    "# Dependencies\n",
    "import pandas as pd\n",
    "import numpy as np\n",
    "\n",
    "# File to Load\n",
    "file = \"Resources/purchase_data.csv\"\n",
    "\n",
    "# Read Purchase Data csv and store into Pandas data frame \n",
    "purchase_data_df = pd.read_csv(file)\n",
    "\n",
    "# Head function to see first ten lines\n",
    "purchase_data_df.head(5)"
   ]
  },
  {
   "cell_type": "markdown",
   "metadata": {},
   "source": [
    "## Player Count"
   ]
  },
  {
   "cell_type": "markdown",
   "metadata": {},
   "source": [
    "* Display the total number of players\n"
   ]
  },
  {
   "cell_type": "code",
   "execution_count": 20,
   "metadata": {},
   "outputs": [
    {
     "data": {
      "text/html": [
       "<div>\n",
       "<style scoped>\n",
       "    .dataframe tbody tr th:only-of-type {\n",
       "        vertical-align: middle;\n",
       "    }\n",
       "\n",
       "    .dataframe tbody tr th {\n",
       "        vertical-align: top;\n",
       "    }\n",
       "\n",
       "    .dataframe thead th {\n",
       "        text-align: right;\n",
       "    }\n",
       "</style>\n",
       "<table border=\"1\" class=\"dataframe\">\n",
       "  <thead>\n",
       "    <tr style=\"text-align: right;\">\n",
       "      <th></th>\n",
       "      <th>Total Players</th>\n",
       "    </tr>\n",
       "  </thead>\n",
       "  <tbody>\n",
       "    <tr>\n",
       "      <th>0</th>\n",
       "      <td>576</td>\n",
       "    </tr>\n",
       "  </tbody>\n",
       "</table>\n",
       "</div>"
      ],
      "text/plain": [
       "   Total Players\n",
       "0            576"
      ]
     },
     "execution_count": 20,
     "metadata": {},
     "output_type": "execute_result"
    }
   ],
   "source": [
    "# Count the total players as the length (Len) of list of screen names (SN)\n",
    "# Number players should be the length of unique players as to not \n",
    "# count one buyer as multiple players \n",
    "total_players = len(purchase_data_df[\"SN\"].unique())\n",
    "\n",
    "# Make a new data frame with total players \n",
    "number_players = pd.DataFrame({\"Total Players\":[total_players]})\n",
    "number_players"
   ]
  },
  {
   "cell_type": "markdown",
   "metadata": {},
   "source": [
    "## Purchasing Analysis (Total)"
   ]
  },
  {
   "cell_type": "markdown",
   "metadata": {},
   "source": [
    "* Run basic calculations to obtain number of unique items, average price, etc.\n",
    "\n",
    "\n",
    "* Create a summary data frame to hold the results\n",
    "\n",
    "\n",
    "* Optional: give the displayed data cleaner formatting\n",
    "\n",
    "\n",
    "* Display the summary data frame\n"
   ]
  },
  {
   "cell_type": "code",
   "execution_count": 21,
   "metadata": {
    "scrolled": true
   },
   "outputs": [
    {
     "data": {
      "text/html": [
       "<style  type=\"text/css\" >\n",
       "</style><table id=\"T_c4e6a158_93ec_11eb_9ba0_e442a6f39c55\" ><thead>    <tr>        <th class=\"blank level0\" ></th>        <th class=\"col_heading level0 col0\" >Amount of Unique Items</th>        <th class=\"col_heading level0 col1\" >Average Price</th>        <th class=\"col_heading level0 col2\" >Total Purchases</th>        <th class=\"col_heading level0 col3\" >Total Revenue</th>    </tr></thead><tbody>\n",
       "                <tr>\n",
       "                        <th id=\"T_c4e6a158_93ec_11eb_9ba0_e442a6f39c55level0_row0\" class=\"row_heading level0 row0\" >0</th>\n",
       "                        <td id=\"T_c4e6a158_93ec_11eb_9ba0_e442a6f39c55row0_col0\" class=\"data row0 col0\" >576</td>\n",
       "                        <td id=\"T_c4e6a158_93ec_11eb_9ba0_e442a6f39c55row0_col1\" class=\"data row0 col1\" >$3.05</td>\n",
       "                        <td id=\"T_c4e6a158_93ec_11eb_9ba0_e442a6f39c55row0_col2\" class=\"data row0 col2\" >780</td>\n",
       "                        <td id=\"T_c4e6a158_93ec_11eb_9ba0_e442a6f39c55row0_col3\" class=\"data row0 col3\" >$2,379.77</td>\n",
       "            </tr>\n",
       "    </tbody></table>"
      ],
      "text/plain": [
       "<pandas.io.formats.style.Styler at 0x1ce048f1100>"
      ]
     },
     "execution_count": 21,
     "metadata": {},
     "output_type": "execute_result"
    }
   ],
   "source": [
    "# Calculate # of unique items\n",
    "unique_items = len(purchase_data_df[\"SN\"].unique())\n",
    "\n",
    "# Calculate Avg Price\n",
    "avg_price = purchase_data_df[\"Price\"].mean() \n",
    "\n",
    "# Calculate Total Number of Purchases\n",
    "total_number_of_purchases = purchase_data_df[\"Price\"].count()\n",
    "\n",
    "# Calculate Total Revenue\n",
    "total_revenue = purchase_data_df[\"Price\"].sum()\n",
    "\n",
    "# Create a new Data Frame with Purchase Analyis Results \n",
    "Purchase_analysis_df= pd.DataFrame ({\"Amount of Unique Items\":[unique_items], \n",
    "                                 \"Average Price\": [avg_price],\n",
    "                                 \"Total Purchases\": [total_number_of_purchases],\n",
    "                                 \"Total Revenue\": [total_revenue]})\n",
    "\n",
    "# New DF showed Average Price and Total Revenue formatted wrong\n",
    "# format it to Currency\n",
    "Purchase_analysis_df.style.format({'Average Price':\"${:,.2f}\",\n",
    "                         'Total Revenue': '${:,.2f}'})"
   ]
  },
  {
   "cell_type": "markdown",
   "metadata": {},
   "source": [
    "## Gender Demographics"
   ]
  },
  {
   "cell_type": "markdown",
   "metadata": {},
   "source": [
    "* Percentage and Count of Male Players\n",
    "\n",
    "\n",
    "* Percentage and Count of Female Players\n",
    "\n",
    "\n",
    "* Percentage and Count of Other / Non-Disclosed\n",
    "\n",
    "\n"
   ]
  },
  {
   "cell_type": "code",
   "execution_count": 22,
   "metadata": {},
   "outputs": [
    {
     "data": {
      "text/html": [
       "<div>\n",
       "<style scoped>\n",
       "    .dataframe tbody tr th:only-of-type {\n",
       "        vertical-align: middle;\n",
       "    }\n",
       "\n",
       "    .dataframe tbody tr th {\n",
       "        vertical-align: top;\n",
       "    }\n",
       "\n",
       "    .dataframe thead th {\n",
       "        text-align: right;\n",
       "    }\n",
       "</style>\n",
       "<table border=\"1\" class=\"dataframe\">\n",
       "  <thead>\n",
       "    <tr style=\"text-align: right;\">\n",
       "      <th></th>\n",
       "      <th>Percentage of Players</th>\n",
       "      <th>Total Count</th>\n",
       "    </tr>\n",
       "    <tr>\n",
       "      <th>Gender</th>\n",
       "      <th></th>\n",
       "      <th></th>\n",
       "    </tr>\n",
       "  </thead>\n",
       "  <tbody>\n",
       "    <tr>\n",
       "      <th>Female</th>\n",
       "      <td>14.06%</td>\n",
       "      <td>81</td>\n",
       "    </tr>\n",
       "    <tr>\n",
       "      <th>Male</th>\n",
       "      <td>84.03%</td>\n",
       "      <td>484</td>\n",
       "    </tr>\n",
       "    <tr>\n",
       "      <th>Other / Non-Disclosed</th>\n",
       "      <td>1.91%</td>\n",
       "      <td>11</td>\n",
       "    </tr>\n",
       "  </tbody>\n",
       "</table>\n",
       "</div>"
      ],
      "text/plain": [
       "                      Percentage of Players  Total Count\n",
       "Gender                                                  \n",
       "Female                               14.06%           81\n",
       "Male                                 84.03%          484\n",
       "Other / Non-Disclosed                 1.91%           11"
      ]
     },
     "execution_count": 22,
     "metadata": {},
     "output_type": "execute_result"
    }
   ],
   "source": [
    "# Separate purchase data by Gender\n",
    "gender_purchases = purchase_data_df.groupby(\"Gender\")\n",
    "\n",
    "# Total of SN by Gender\n",
    "# Filter out duplicates and null values with nunique\n",
    "unique_gender_players = gender_purchases.nunique()[\"SN\"]\n",
    "\n",
    "# Calculate the gender specific percentages\n",
    "# Format to % and two decimals\n",
    "gender_percent = (unique_gender_players/total_players).map(\"{:,.2%}\".format)\n",
    "\n",
    "# Make a Gender Demographics \n",
    "gender_table = pd.DataFrame({\"Percentage of Players\": gender_percent, \n",
    "                             \"Total Count\": unique_gender_players})\n",
    "\n",
    "gender_table"
   ]
  },
  {
   "cell_type": "markdown",
   "metadata": {},
   "source": [
    "\n",
    "## Purchasing Analysis (Gender)"
   ]
  },
  {
   "cell_type": "markdown",
   "metadata": {},
   "source": [
    "* Run basic calculations to obtain purchase count, avg. purchase price, avg. purchase total per person etc. by gender\n",
    "\n",
    "\n",
    "* Create a summary data frame to hold the results\n",
    "\n",
    "\n",
    "* Optional: give the displayed data cleaner formatting\n",
    "\n",
    "\n",
    "* Display the summary data frame"
   ]
  },
  {
   "cell_type": "code",
   "execution_count": 23,
   "metadata": {},
   "outputs": [
    {
     "data": {
      "text/html": [
       "<div>\n",
       "<style scoped>\n",
       "    .dataframe tbody tr th:only-of-type {\n",
       "        vertical-align: middle;\n",
       "    }\n",
       "\n",
       "    .dataframe tbody tr th {\n",
       "        vertical-align: top;\n",
       "    }\n",
       "\n",
       "    .dataframe thead th {\n",
       "        text-align: right;\n",
       "    }\n",
       "</style>\n",
       "<table border=\"1\" class=\"dataframe\">\n",
       "  <thead>\n",
       "    <tr style=\"text-align: right;\">\n",
       "      <th></th>\n",
       "      <th>Purchase Count</th>\n",
       "      <th>Average Purchase Price</th>\n",
       "      <th>Average Purchase Value</th>\n",
       "      <th>Avg Purchase Total per Person</th>\n",
       "    </tr>\n",
       "    <tr>\n",
       "      <th>Gender</th>\n",
       "      <th></th>\n",
       "      <th></th>\n",
       "      <th></th>\n",
       "      <th></th>\n",
       "    </tr>\n",
       "  </thead>\n",
       "  <tbody>\n",
       "    <tr>\n",
       "      <th>Female</th>\n",
       "      <td>113</td>\n",
       "      <td>$3.20</td>\n",
       "      <td>$361.94</td>\n",
       "      <td>$4.47</td>\n",
       "    </tr>\n",
       "    <tr>\n",
       "      <th>Male</th>\n",
       "      <td>652</td>\n",
       "      <td>$3.02</td>\n",
       "      <td>$1,967.64</td>\n",
       "      <td>$4.07</td>\n",
       "    </tr>\n",
       "    <tr>\n",
       "      <th>Other / Non-Disclosed</th>\n",
       "      <td>15</td>\n",
       "      <td>$3.35</td>\n",
       "      <td>$50.19</td>\n",
       "      <td>$4.56</td>\n",
       "    </tr>\n",
       "  </tbody>\n",
       "</table>\n",
       "</div>"
      ],
      "text/plain": [
       "                       Purchase Count Average Purchase Price  \\\n",
       "Gender                                                         \n",
       "Female                            113                  $3.20   \n",
       "Male                              652                  $3.02   \n",
       "Other / Non-Disclosed              15                  $3.35   \n",
       "\n",
       "                      Average Purchase Value Avg Purchase Total per Person  \n",
       "Gender                                                                      \n",
       "Female                               $361.94                         $4.47  \n",
       "Male                               $1,967.64                         $4.07  \n",
       "Other / Non-Disclosed                 $50.19                         $4.56  "
      ]
     },
     "execution_count": 23,
     "metadata": {},
     "output_type": "execute_result"
    }
   ],
   "source": [
    "# Calculate the Purchase Count by Gender\n",
    "gender_purchase_count = gender_purchases[\"SN\"].count()\n",
    "\n",
    "# Calculate Avg Purchase Price and currency format\n",
    "avg_price = gender_purchases[\"Price\"].mean().map(\"${:,.2f}\".format)\n",
    "\n",
    "# Calculate the average purchase totals by each gender and currency format\n",
    "gender_avg_price = gender_purchases[\"Price\"].sum().map(\"${:,.2f}\".format)\n",
    "\n",
    "#Calculate the avg gender purchases per player and currency format\n",
    "gender_avg_player_price = (purchase_data_df.groupby([\"Gender\"]).sum()[\"Price\"]\n",
    "                          /gender_table[\"Total Count\"]).map(\"${:,.2f}\".format)\n",
    "\n",
    "# Create data frame with obtained values\n",
    "gender_demo_purchases = pd.DataFrame({\"Purchase Count\": gender_purchase_count, \n",
    "                                    \"Average Purchase Price\": avg_price,\n",
    "                                    \"Average Purchase Value\": gender_avg_price,\n",
    "                                    \"Avg Purchase Total per Person\": gender_avg_player_price})\n",
    "gender_demo_purchases"
   ]
  },
  {
   "cell_type": "markdown",
   "metadata": {},
   "source": [
    "## Age Demographics"
   ]
  },
  {
   "cell_type": "markdown",
   "metadata": {},
   "source": [
    "* Establish bins for ages\n",
    "\n",
    "\n",
    "* Categorize the existing players using the age bins. Hint: use pd.cut()\n",
    "\n",
    "\n",
    "* Calculate the numbers and percentages by age group\n",
    "\n",
    "\n",
    "* Create a summary data frame to hold the results\n",
    "\n",
    "\n",
    "* Optional: round the percentage column to two decimal points\n",
    "\n",
    "\n",
    "* Display Age Demographics Table\n"
   ]
  },
  {
   "cell_type": "code",
   "execution_count": 24,
   "metadata": {},
   "outputs": [
    {
     "data": {
      "text/html": [
       "<div>\n",
       "<style scoped>\n",
       "    .dataframe tbody tr th:only-of-type {\n",
       "        vertical-align: middle;\n",
       "    }\n",
       "\n",
       "    .dataframe tbody tr th {\n",
       "        vertical-align: top;\n",
       "    }\n",
       "\n",
       "    .dataframe thead th {\n",
       "        text-align: right;\n",
       "    }\n",
       "</style>\n",
       "<table border=\"1\" class=\"dataframe\">\n",
       "  <thead>\n",
       "    <tr style=\"text-align: right;\">\n",
       "      <th></th>\n",
       "      <th>Player Percentage</th>\n",
       "      <th>Total Age Count</th>\n",
       "    </tr>\n",
       "    <tr>\n",
       "      <th>Age Group</th>\n",
       "      <th></th>\n",
       "      <th></th>\n",
       "    </tr>\n",
       "  </thead>\n",
       "  <tbody>\n",
       "    <tr>\n",
       "      <th>&lt;10</th>\n",
       "      <td>2.95%</td>\n",
       "      <td>17</td>\n",
       "    </tr>\n",
       "    <tr>\n",
       "      <th>10-14</th>\n",
       "      <td>3.82%</td>\n",
       "      <td>22</td>\n",
       "    </tr>\n",
       "    <tr>\n",
       "      <th>15-19</th>\n",
       "      <td>18.58%</td>\n",
       "      <td>107</td>\n",
       "    </tr>\n",
       "    <tr>\n",
       "      <th>20-24</th>\n",
       "      <td>44.79%</td>\n",
       "      <td>258</td>\n",
       "    </tr>\n",
       "    <tr>\n",
       "      <th>25-29</th>\n",
       "      <td>13.37%</td>\n",
       "      <td>77</td>\n",
       "    </tr>\n",
       "    <tr>\n",
       "      <th>30-34</th>\n",
       "      <td>9.03%</td>\n",
       "      <td>52</td>\n",
       "    </tr>\n",
       "    <tr>\n",
       "      <th>35-39</th>\n",
       "      <td>5.38%</td>\n",
       "      <td>31</td>\n",
       "    </tr>\n",
       "    <tr>\n",
       "      <th>40+</th>\n",
       "      <td>2.08%</td>\n",
       "      <td>12</td>\n",
       "    </tr>\n",
       "  </tbody>\n",
       "</table>\n",
       "</div>"
      ],
      "text/plain": [
       "          Player Percentage  Total Age Count\n",
       "Age Group                                   \n",
       "<10                   2.95%               17\n",
       "10-14                 3.82%               22\n",
       "15-19                18.58%              107\n",
       "20-24                44.79%              258\n",
       "25-29                13.37%               77\n",
       "30-34                 9.03%               52\n",
       "35-39                 5.38%               31\n",
       "40+                   2.08%               12"
      ]
     },
     "execution_count": 24,
     "metadata": {},
     "output_type": "execute_result"
    }
   ],
   "source": [
    "# Create Age Bins\n",
    "age_bin = [0, 9, 14, 19, 24, 29, 34, 39, 10000]\n",
    "\n",
    "# Title the bins\n",
    "age_group = ['<10','10-14','15-19','20-24','25-29','30-34','35-39','40+']\n",
    "\n",
    "# Sort the player's ages into age groups\n",
    "purchase_data_df[\"Age Group\"] = pd.cut(purchase_data_df[\"Age\"],age_bin, \n",
    "                                       labels=age_group)\n",
    "\n",
    "# DF with new column \"Age Group\"\n",
    "group_age = purchase_data_df.groupby(\"Age Group\")\n",
    "\n",
    "# Calculate total number of players by age group\n",
    "# Filter out duplicates by nunique\n",
    "age_count = group_age[\"SN\"].nunique()\n",
    "\n",
    "# Calculate percent by age group and format to percentage\n",
    "age_percentage = (age_count/total_players).map(\"{:,.2%}\".format)\n",
    "\n",
    "# Make DF Age Demographic Table\n",
    "age_demo_table = pd.DataFrame({\"Player Percentage\" : age_percentage,\n",
    "                              \"Total Age Count\":age_count})\n",
    "age_demo_table"
   ]
  },
  {
   "cell_type": "markdown",
   "metadata": {},
   "source": [
    "## Purchasing Analysis (Age)"
   ]
  },
  {
   "cell_type": "markdown",
   "metadata": {},
   "source": [
    "* Bin the purchase_data data frame by age\n",
    "\n",
    "\n",
    "* Run basic calculations to obtain purchase count, avg. purchase price, avg. purchase total per person etc. in the table below\n",
    "\n",
    "\n",
    "* Create a summary data frame to hold the results\n",
    "\n",
    "\n",
    "* Optional: give the displayed data cleaner formatting\n",
    "\n",
    "\n",
    "* Display the summary data frame"
   ]
  },
  {
   "cell_type": "code",
   "execution_count": 25,
   "metadata": {},
   "outputs": [
    {
     "data": {
      "text/html": [
       "<style  type=\"text/css\" >\n",
       "</style><table id=\"T_c8c5dbe4_93ec_11eb_95d7_e442a6f39c55\" ><thead>    <tr>        <th class=\"blank level0\" ></th>        <th class=\"col_heading level0 col0\" >Purchase Count</th>        <th class=\"col_heading level0 col1\" >Avg Price</th>        <th class=\"col_heading level0 col2\" >Total Price</th>        <th class=\"col_heading level0 col3\" >Total Price / Person</th>    </tr>    <tr>        <th class=\"index_name level0\" >Age Group</th>        <th class=\"blank\" ></th>        <th class=\"blank\" ></th>        <th class=\"blank\" ></th>        <th class=\"blank\" ></th>    </tr></thead><tbody>\n",
       "                <tr>\n",
       "                        <th id=\"T_c8c5dbe4_93ec_11eb_95d7_e442a6f39c55level0_row0\" class=\"row_heading level0 row0\" ><10</th>\n",
       "                        <td id=\"T_c8c5dbe4_93ec_11eb_95d7_e442a6f39c55row0_col0\" class=\"data row0 col0\" >23</td>\n",
       "                        <td id=\"T_c8c5dbe4_93ec_11eb_95d7_e442a6f39c55row0_col1\" class=\"data row0 col1\" >$3.35</td>\n",
       "                        <td id=\"T_c8c5dbe4_93ec_11eb_95d7_e442a6f39c55row0_col2\" class=\"data row0 col2\" >$77.13</td>\n",
       "                        <td id=\"T_c8c5dbe4_93ec_11eb_95d7_e442a6f39c55row0_col3\" class=\"data row0 col3\" >$4.54</td>\n",
       "            </tr>\n",
       "            <tr>\n",
       "                        <th id=\"T_c8c5dbe4_93ec_11eb_95d7_e442a6f39c55level0_row1\" class=\"row_heading level0 row1\" >10-14</th>\n",
       "                        <td id=\"T_c8c5dbe4_93ec_11eb_95d7_e442a6f39c55row1_col0\" class=\"data row1 col0\" >28</td>\n",
       "                        <td id=\"T_c8c5dbe4_93ec_11eb_95d7_e442a6f39c55row1_col1\" class=\"data row1 col1\" >$2.96</td>\n",
       "                        <td id=\"T_c8c5dbe4_93ec_11eb_95d7_e442a6f39c55row1_col2\" class=\"data row1 col2\" >$82.78</td>\n",
       "                        <td id=\"T_c8c5dbe4_93ec_11eb_95d7_e442a6f39c55row1_col3\" class=\"data row1 col3\" >$3.76</td>\n",
       "            </tr>\n",
       "            <tr>\n",
       "                        <th id=\"T_c8c5dbe4_93ec_11eb_95d7_e442a6f39c55level0_row2\" class=\"row_heading level0 row2\" >15-19</th>\n",
       "                        <td id=\"T_c8c5dbe4_93ec_11eb_95d7_e442a6f39c55row2_col0\" class=\"data row2 col0\" >136</td>\n",
       "                        <td id=\"T_c8c5dbe4_93ec_11eb_95d7_e442a6f39c55row2_col1\" class=\"data row2 col1\" >$3.04</td>\n",
       "                        <td id=\"T_c8c5dbe4_93ec_11eb_95d7_e442a6f39c55row2_col2\" class=\"data row2 col2\" >$412.89</td>\n",
       "                        <td id=\"T_c8c5dbe4_93ec_11eb_95d7_e442a6f39c55row2_col3\" class=\"data row2 col3\" >$3.86</td>\n",
       "            </tr>\n",
       "            <tr>\n",
       "                        <th id=\"T_c8c5dbe4_93ec_11eb_95d7_e442a6f39c55level0_row3\" class=\"row_heading level0 row3\" >20-24</th>\n",
       "                        <td id=\"T_c8c5dbe4_93ec_11eb_95d7_e442a6f39c55row3_col0\" class=\"data row3 col0\" >365</td>\n",
       "                        <td id=\"T_c8c5dbe4_93ec_11eb_95d7_e442a6f39c55row3_col1\" class=\"data row3 col1\" >$3.05</td>\n",
       "                        <td id=\"T_c8c5dbe4_93ec_11eb_95d7_e442a6f39c55row3_col2\" class=\"data row3 col2\" >$1,114.06</td>\n",
       "                        <td id=\"T_c8c5dbe4_93ec_11eb_95d7_e442a6f39c55row3_col3\" class=\"data row3 col3\" >$4.32</td>\n",
       "            </tr>\n",
       "            <tr>\n",
       "                        <th id=\"T_c8c5dbe4_93ec_11eb_95d7_e442a6f39c55level0_row4\" class=\"row_heading level0 row4\" >25-29</th>\n",
       "                        <td id=\"T_c8c5dbe4_93ec_11eb_95d7_e442a6f39c55row4_col0\" class=\"data row4 col0\" >101</td>\n",
       "                        <td id=\"T_c8c5dbe4_93ec_11eb_95d7_e442a6f39c55row4_col1\" class=\"data row4 col1\" >$2.90</td>\n",
       "                        <td id=\"T_c8c5dbe4_93ec_11eb_95d7_e442a6f39c55row4_col2\" class=\"data row4 col2\" >$293.00</td>\n",
       "                        <td id=\"T_c8c5dbe4_93ec_11eb_95d7_e442a6f39c55row4_col3\" class=\"data row4 col3\" >$3.81</td>\n",
       "            </tr>\n",
       "            <tr>\n",
       "                        <th id=\"T_c8c5dbe4_93ec_11eb_95d7_e442a6f39c55level0_row5\" class=\"row_heading level0 row5\" >30-34</th>\n",
       "                        <td id=\"T_c8c5dbe4_93ec_11eb_95d7_e442a6f39c55row5_col0\" class=\"data row5 col0\" >73</td>\n",
       "                        <td id=\"T_c8c5dbe4_93ec_11eb_95d7_e442a6f39c55row5_col1\" class=\"data row5 col1\" >$2.93</td>\n",
       "                        <td id=\"T_c8c5dbe4_93ec_11eb_95d7_e442a6f39c55row5_col2\" class=\"data row5 col2\" >$214.00</td>\n",
       "                        <td id=\"T_c8c5dbe4_93ec_11eb_95d7_e442a6f39c55row5_col3\" class=\"data row5 col3\" >$4.12</td>\n",
       "            </tr>\n",
       "            <tr>\n",
       "                        <th id=\"T_c8c5dbe4_93ec_11eb_95d7_e442a6f39c55level0_row6\" class=\"row_heading level0 row6\" >35-39</th>\n",
       "                        <td id=\"T_c8c5dbe4_93ec_11eb_95d7_e442a6f39c55row6_col0\" class=\"data row6 col0\" >41</td>\n",
       "                        <td id=\"T_c8c5dbe4_93ec_11eb_95d7_e442a6f39c55row6_col1\" class=\"data row6 col1\" >$3.60</td>\n",
       "                        <td id=\"T_c8c5dbe4_93ec_11eb_95d7_e442a6f39c55row6_col2\" class=\"data row6 col2\" >$147.67</td>\n",
       "                        <td id=\"T_c8c5dbe4_93ec_11eb_95d7_e442a6f39c55row6_col3\" class=\"data row6 col3\" >$4.76</td>\n",
       "            </tr>\n",
       "            <tr>\n",
       "                        <th id=\"T_c8c5dbe4_93ec_11eb_95d7_e442a6f39c55level0_row7\" class=\"row_heading level0 row7\" >40+</th>\n",
       "                        <td id=\"T_c8c5dbe4_93ec_11eb_95d7_e442a6f39c55row7_col0\" class=\"data row7 col0\" >13</td>\n",
       "                        <td id=\"T_c8c5dbe4_93ec_11eb_95d7_e442a6f39c55row7_col1\" class=\"data row7 col1\" >$2.94</td>\n",
       "                        <td id=\"T_c8c5dbe4_93ec_11eb_95d7_e442a6f39c55row7_col2\" class=\"data row7 col2\" >$38.24</td>\n",
       "                        <td id=\"T_c8c5dbe4_93ec_11eb_95d7_e442a6f39c55row7_col3\" class=\"data row7 col3\" >$3.19</td>\n",
       "            </tr>\n",
       "    </tbody></table>"
      ],
      "text/plain": [
       "<pandas.io.formats.style.Styler at 0x1ce048cbeb0>"
      ]
     },
     "execution_count": 25,
     "metadata": {},
     "output_type": "execute_result"
    }
   ],
   "source": [
    "# Calculate the purchase count by age groups\n",
    "purchase_age = group_age[\"Purchase ID\"].count()\n",
    "\n",
    "# Calculate avg. purchase price by age groups\n",
    "avg_age_price = group_age[\"Price\"].mean()\n",
    "\n",
    "# Calculate the sum of purchases by age groups\n",
    "total_age_purchase = group_age[\"Price\"].sum()\n",
    "\n",
    "# Calculate avg. purchase total per person by age groups\n",
    "avg_age_price_each= (total_age_purchase/age_count)\n",
    "\n",
    "# Make a Purchasing Analysis by Age summary table\n",
    "age_purchase_table = pd.DataFrame({\"Purchase Count\":purchase_age,\n",
    "                                  \"Avg Price\":avg_age_price,\n",
    "                                  \"Total Price\": total_age_purchase,\n",
    "                                  \"Total Price / Person\": avg_age_price_each})\n",
    "\n",
    "# Format to currency bc I got an error when trying to change it above\n",
    "# (.map(\"{:,.2%}\".format), due to it being a data type difference: \n",
    "# TypeError: unsupported operand type(s) for /: 'str' and 'int'\n",
    "age_purchase_table.style.format({\"Avg Price\":\"${:,.2f}\",\n",
    "                               \"Total Price\":\"${:,.2f}\",\n",
    "                               \"Total Price / Person\":\"${:,.2f}\"})"
   ]
  },
  {
   "cell_type": "markdown",
   "metadata": {},
   "source": [
    "## Top Spenders"
   ]
  },
  {
   "cell_type": "markdown",
   "metadata": {},
   "source": [
    "* Run basic calculations to obtain the results in the table below\n",
    "\n",
    "\n",
    "* Create a summary data frame to hold the results\n",
    "\n",
    "\n",
    "* Sort the total purchase value column in descending order\n",
    "\n",
    "\n",
    "* Optional: give the displayed data cleaner formatting\n",
    "\n",
    "\n",
    "* Display a preview of the summary data frame\n",
    "\n"
   ]
  },
  {
   "cell_type": "code",
   "execution_count": 26,
   "metadata": {},
   "outputs": [
    {
     "data": {
      "text/html": [
       "<style  type=\"text/css\" >\n",
       "</style><table id=\"T_2b2fc4ad_93ee_11eb_9576_e442a6f39c55\" ><thead>    <tr>        <th class=\"blank level0\" ></th>        <th class=\"col_heading level0 col0\" >Total Purchase Value</th>        <th class=\"col_heading level0 col1\" >Average Purchase Price</th>        <th class=\"col_heading level0 col2\" >Purchase Count</th>    </tr>    <tr>        <th class=\"index_name level0\" >SN</th>        <th class=\"blank\" ></th>        <th class=\"blank\" ></th>        <th class=\"blank\" ></th>    </tr></thead><tbody>\n",
       "                <tr>\n",
       "                        <th id=\"T_2b2fc4ad_93ee_11eb_9576_e442a6f39c55level0_row0\" class=\"row_heading level0 row0\" >Lisosia93</th>\n",
       "                        <td id=\"T_2b2fc4ad_93ee_11eb_9576_e442a6f39c55row0_col0\" class=\"data row0 col0\" >$18.96</td>\n",
       "                        <td id=\"T_2b2fc4ad_93ee_11eb_9576_e442a6f39c55row0_col1\" class=\"data row0 col1\" >$3.79</td>\n",
       "                        <td id=\"T_2b2fc4ad_93ee_11eb_9576_e442a6f39c55row0_col2\" class=\"data row0 col2\" >5</td>\n",
       "            </tr>\n",
       "            <tr>\n",
       "                        <th id=\"T_2b2fc4ad_93ee_11eb_9576_e442a6f39c55level0_row1\" class=\"row_heading level0 row1\" >Idastidru52</th>\n",
       "                        <td id=\"T_2b2fc4ad_93ee_11eb_9576_e442a6f39c55row1_col0\" class=\"data row1 col0\" >$15.45</td>\n",
       "                        <td id=\"T_2b2fc4ad_93ee_11eb_9576_e442a6f39c55row1_col1\" class=\"data row1 col1\" >$3.86</td>\n",
       "                        <td id=\"T_2b2fc4ad_93ee_11eb_9576_e442a6f39c55row1_col2\" class=\"data row1 col2\" >4</td>\n",
       "            </tr>\n",
       "            <tr>\n",
       "                        <th id=\"T_2b2fc4ad_93ee_11eb_9576_e442a6f39c55level0_row2\" class=\"row_heading level0 row2\" >Chamjask73</th>\n",
       "                        <td id=\"T_2b2fc4ad_93ee_11eb_9576_e442a6f39c55row2_col0\" class=\"data row2 col0\" >$13.83</td>\n",
       "                        <td id=\"T_2b2fc4ad_93ee_11eb_9576_e442a6f39c55row2_col1\" class=\"data row2 col1\" >$4.61</td>\n",
       "                        <td id=\"T_2b2fc4ad_93ee_11eb_9576_e442a6f39c55row2_col2\" class=\"data row2 col2\" >3</td>\n",
       "            </tr>\n",
       "            <tr>\n",
       "                        <th id=\"T_2b2fc4ad_93ee_11eb_9576_e442a6f39c55level0_row3\" class=\"row_heading level0 row3\" >Iral74</th>\n",
       "                        <td id=\"T_2b2fc4ad_93ee_11eb_9576_e442a6f39c55row3_col0\" class=\"data row3 col0\" >$13.62</td>\n",
       "                        <td id=\"T_2b2fc4ad_93ee_11eb_9576_e442a6f39c55row3_col1\" class=\"data row3 col1\" >$3.40</td>\n",
       "                        <td id=\"T_2b2fc4ad_93ee_11eb_9576_e442a6f39c55row3_col2\" class=\"data row3 col2\" >4</td>\n",
       "            </tr>\n",
       "            <tr>\n",
       "                        <th id=\"T_2b2fc4ad_93ee_11eb_9576_e442a6f39c55level0_row4\" class=\"row_heading level0 row4\" >Iskadarya95</th>\n",
       "                        <td id=\"T_2b2fc4ad_93ee_11eb_9576_e442a6f39c55row4_col0\" class=\"data row4 col0\" >$13.10</td>\n",
       "                        <td id=\"T_2b2fc4ad_93ee_11eb_9576_e442a6f39c55row4_col1\" class=\"data row4 col1\" >$4.37</td>\n",
       "                        <td id=\"T_2b2fc4ad_93ee_11eb_9576_e442a6f39c55row4_col2\" class=\"data row4 col2\" >3</td>\n",
       "            </tr>\n",
       "    </tbody></table>"
      ],
      "text/plain": [
       "<pandas.io.formats.style.Styler at 0x1ce04b2de80>"
      ]
     },
     "execution_count": 26,
     "metadata": {},
     "output_type": "execute_result"
    }
   ],
   "source": [
    "# Group the purchase data DF by the SN's\n",
    "SN_purchases = purchase_data_df.groupby(\"SN\")\n",
    "\n",
    "# Total price of SN specific purchases\n",
    "SN_total_price = SN_purchases[\"Price\"].sum()\n",
    "\n",
    "# Total number of times of SN specific purchases\n",
    "SN_total_purchases = SN_purchases[\"SN\"].count()\n",
    "\n",
    "# Avg price of SN specific purchases\n",
    "avg_SN_price = SN_purchases[\"Price\"].mean()\n",
    "\n",
    "# SN specific purchase demographic summary table\n",
    "SN_demo_table = pd.DataFrame({\"Total Purchase Value\": SN_total_price,\n",
    "                             \"Average Purchase Price\": avg_SN_price,\n",
    "                             \"Purchase Count\": SN_total_purchases})\n",
    "\n",
    "# Use head function in ascending order to display top 5 Spender SN's\n",
    "top_5_spenders = SN_demo_table.sort_values([\"Total Purchase Value\"], ascending=False).head()\n",
    "\n",
    "# Format to currency \n",
    "top_5_spenders.style.format({\"Total Purchase Value\":\"${:,.2f}\",\n",
    "                            \"Average Purchase Price\":\"${:,.2f}\"})"
   ]
  },
  {
   "cell_type": "markdown",
   "metadata": {},
   "source": [
    "## Most Popular Items"
   ]
  },
  {
   "cell_type": "markdown",
   "metadata": {},
   "source": [
    "* Retrieve the Item ID, Item Name, and Item Price columns\n",
    "\n",
    "\n",
    "* Group by Item ID and Item Name. Perform calculations to obtain purchase count, average item price, and total purchase value\n",
    "\n",
    "\n",
    "* Create a summary data frame to hold the results\n",
    "\n",
    "\n",
    "* Sort the purchase count column in descending order\n",
    "\n",
    "\n",
    "* Optional: give the displayed data cleaner formatting\n",
    "\n",
    "\n",
    "* Display a preview of the summary data frame\n",
    "\n"
   ]
  },
  {
   "cell_type": "code",
   "execution_count": null,
   "metadata": {},
   "outputs": [],
   "source": [
    "# Make new DF that has the Item ID, Item Name, and Item Price columns\n",
    "pop_items = purchase_data_df[\"Item ID\", \"Item Name\", \"Item Price\"]\n",
    "\n",
    "# Calculate most popular items by grouping Item ID and Item Name \n",
    "# and using .agg on Item ID and Price to get avg prices and total counts\n",
    "pop_items = pop_items.groupby(['Item ID', 'Item Name'])\n",
    "\n",
    "# Item specific purchase counts\n",
    "item_purchases = pop.items[\"Price\"].count()\n",
    "\n",
    "# Item specific prices\n",
    "item_prices = pop.items[\"Price\"].sum()\n",
    "\n",
    "\n",
    "\n",
    "\n",
    "\n",
    "\n",
    "\n"
   ]
  },
  {
   "cell_type": "markdown",
   "metadata": {},
   "source": [
    "## Most Profitable Items"
   ]
  },
  {
   "cell_type": "markdown",
   "metadata": {},
   "source": [
    "* Sort the above table by total purchase value in descending order\n",
    "\n",
    "\n",
    "* Optional: give the displayed data cleaner formatting\n",
    "\n",
    "\n",
    "* Display a preview of the data frame\n",
    "\n"
   ]
  },
  {
   "cell_type": "code",
   "execution_count": null,
   "metadata": {
    "scrolled": true
   },
   "outputs": [],
   "source": []
  }
 ],
 "metadata": {
  "anaconda-cloud": {},
  "kernel_info": {
   "name": "python3"
  },
  "kernelspec": {
   "display_name": "Python 3",
   "language": "python",
   "name": "python3"
  },
  "language_info": {
   "codemirror_mode": {
    "name": "ipython",
    "version": 3
   },
   "file_extension": ".py",
   "mimetype": "text/x-python",
   "name": "python",
   "nbconvert_exporter": "python",
   "pygments_lexer": "ipython3",
   "version": "3.8.5"
  },
  "latex_envs": {
   "LaTeX_envs_menu_present": true,
   "autoclose": false,
   "autocomplete": true,
   "bibliofile": "biblio.bib",
   "cite_by": "apalike",
   "current_citInitial": 1,
   "eqLabelWithNumbers": true,
   "eqNumInitial": 1,
   "hotkeys": {
    "equation": "Ctrl-E",
    "itemize": "Ctrl-I"
   },
   "labels_anchors": false,
   "latex_user_defs": false,
   "report_style_numbering": false,
   "user_envs_cfg": false
  },
  "nteract": {
   "version": "0.2.0"
  }
 },
 "nbformat": 4,
 "nbformat_minor": 2
}
